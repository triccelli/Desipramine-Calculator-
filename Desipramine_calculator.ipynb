{
 "cells": [
  {
   "cell_type": "code",
   "execution_count": null,
   "metadata": {},
   "outputs": [],
   "source": [
    "#This is my first script!!!!! \n",
    "\n",
    "#This is a calculator for determining mg needed per volume of stock solution \n",
    "#This is a calculator for determining how much desipramine needs to be injected per mouse weight"
   ]
  },
  {
   "cell_type": "code",
   "execution_count": null,
   "metadata": {},
   "outputs": [],
   "source": [
    "###STOCK SOLUTION CALCULATOR###\n",
    "#For preparing _____ mL of desipramine solution at _____ mg/mL concentration. \n",
    "\n",
    "vol_stock = float(input(\"What volume(mL) of desipramine would you like to make?\"))\n",
    "concentration_stock = float(input(\"What concentration(mg/mL) of despiramine would you like to make?\"))\n",
    "\n",
    "#MW of desipramine HCL: 302.84. MW of HCL: 36.46. MW of free base = 266.38 \n",
    "#correction factor = 302.84/266.38 = 1.137 \n",
    "correction = 1.137\n",
    "\n",
    "mg_stock = concentration_stock * vol_stock * correction \n",
    "print (\"To obtain concentration(mg/mL) of \" + str(concentration_stock) + \" in a volume(mL) of \" + str(vol_stock) + \" use \" + str(mg_stock) + \" mg \")\n",
    "\n"
   ]
  },
  {
   "cell_type": "code",
   "execution_count": null,
   "metadata": {},
   "outputs": [],
   "source": [
    "###INDIVIDUAL DOSE BY WEIGHT CALCULATOR###\n",
    "\n",
    "weight_g = input(\"Mouse weight in g: \")\n",
    "weight_kg = float(weight_g) / 1000\n",
    "\n",
    "#dosage units are mg/kg \n",
    "#Our protocol: dose = 10mg/kg \n",
    "\n",
    "dose = float(input(\"Required dose (mg/kg):\"))\n",
    "mg_needed = weight_kg * 10 \n",
    "vol_needed = mg_needed / concentration_stock\n",
    "\n",
    "print (\"Inject \" + str(vol_needed) + \"of desipramine at concentration(mg/ml) \" + str(concentration_stock) + \" for dose(mg/kg) \" + str(dose))\n",
    "\n",
    "convert = input(\"Convert to uL? input 'y' or 'n'\")\n",
    "\n",
    "if convert == 'y': \n",
    "    vol_needed = vol_needed * 1000\n",
    "    print (vol_needed)\n",
    "elif convert == 'n': \n",
    "    print (\"ok\")\n",
    "else: \n",
    "    print (\"not a valid input, try again\")\n",
    "\n",
    "\n"
   ]
  },
  {
   "cell_type": "code",
   "execution_count": null,
   "metadata": {},
   "outputs": [],
   "source": []
  }
 ],
 "metadata": {
  "kernelspec": {
   "display_name": "Python 3",
   "language": "python",
   "name": "python3"
  },
  "language_info": {
   "codemirror_mode": {
    "name": "ipython",
    "version": 3
   },
   "file_extension": ".py",
   "mimetype": "text/x-python",
   "name": "python",
   "nbconvert_exporter": "python",
   "pygments_lexer": "ipython3",
   "version": "3.6.5"
  }
 },
 "nbformat": 4,
 "nbformat_minor": 2
}
